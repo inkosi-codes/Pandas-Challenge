{
 "cells": [
  {
   "cell_type": "code",
   "execution_count": 429,
   "metadata": {},
   "outputs": [],
   "source": [
    "import pandas as pd\n",
    "import os as _dir\n",
    "\n",
    "working_dir = _dir.getcwd()\n",
    "csv_file = \"purchase_data.csv\"\n",
    "\n",
    "for root, dirs, files in _dir.walk(working_dir):\n",
    "    if csv_file in files:\n",
    "        csv_file = (_dir.path.join(root, csv_file))\n",
    "purchase_main_df = pd.read_csv(csv_file)\n",
    "purchase_df = purchase_main_df.copy()\n"
   ]
  },
  {
   "source": [
    "## Player Count\n",
    "\n",
    "* Displays the total number of players"
   ],
   "cell_type": "markdown",
   "metadata": {}
  },
  {
   "cell_type": "code",
   "execution_count": 430,
   "metadata": {},
   "outputs": [
    {
     "output_type": "execute_result",
     "data": {
      "text/plain": [
       "   Total Players\n",
       "0            576"
      ],
      "text/html": "<div>\n<style scoped>\n    .dataframe tbody tr th:only-of-type {\n        vertical-align: middle;\n    }\n\n    .dataframe tbody tr th {\n        vertical-align: top;\n    }\n\n    .dataframe thead th {\n        text-align: right;\n    }\n</style>\n<table border=\"1\" class=\"dataframe\">\n  <thead>\n    <tr style=\"text-align: right;\">\n      <th></th>\n      <th>Total Players</th>\n    </tr>\n  </thead>\n  <tbody>\n    <tr>\n      <th>0</th>\n      <td>576</td>\n    </tr>\n  </tbody>\n</table>\n</div>"
     },
     "metadata": {},
     "execution_count": 430
    }
   ],
   "source": [
    "total_player = pd.DataFrame([purchase_df[\"SN\"].nunique()], columns=[\"Total Players\"])\n",
    "total_player"
   ]
  },
  {
   "source": [
    "## Output of Purchasing Analysis (Total)\n",
    "\n",
    "* Gives an analysis of the following pieces of data:\n",
    "    * Number of unique items sold\n",
    "    * The Average price\n",
    "    * Total number of purchases\n",
    "    * Total Revenue made from purchases\n"
   ],
   "cell_type": "markdown",
   "metadata": {}
  },
  {
   "cell_type": "code",
   "execution_count": 431,
   "metadata": {},
   "outputs": [
    {
     "output_type": "execute_result",
     "data": {
      "text/plain": [
       "   Number of unique items Average Price  Number of Purchases Total Revenue\n",
       "0                     179         $3.05                  780     $2,379.77"
      ],
      "text/html": "<div>\n<style scoped>\n    .dataframe tbody tr th:only-of-type {\n        vertical-align: middle;\n    }\n\n    .dataframe tbody tr th {\n        vertical-align: top;\n    }\n\n    .dataframe thead th {\n        text-align: right;\n    }\n</style>\n<table border=\"1\" class=\"dataframe\">\n  <thead>\n    <tr style=\"text-align: right;\">\n      <th></th>\n      <th>Number of unique items</th>\n      <th>Average Price</th>\n      <th>Number of Purchases</th>\n      <th>Total Revenue</th>\n    </tr>\n  </thead>\n  <tbody>\n    <tr>\n      <th>0</th>\n      <td>179</td>\n      <td>$3.05</td>\n      <td>780</td>\n      <td>$2,379.77</td>\n    </tr>\n  </tbody>\n</table>\n</div>"
     },
     "metadata": {},
     "execution_count": 431
    }
   ],
   "source": [
    "purchasing_data_list = [purchase_df[\"Item ID\"].nunique(),\"${:.2f}\".format(purchase_df[\"Price\"].mean()),purchase_df[\"Purchase ID\"].count(),\"${:,.2f}\".format(purchase_df[\"Price\"].sum())]\n",
    "purchasing_totals_df = pd.DataFrame([purchasing_data_list], columns=['Number of unique items','Average Price','Number of Purchases','Total Revenue'])\n",
    "purchasing_totals_df"
   ]
  },
  {
   "source": [
    "## Gender Demographics\n",
    "\n",
    "* Count and Percentage of Male Players\n",
    "\n",
    "\n",
    "* Count and Percentage of Female Players\n",
    "\n",
    "\n",
    "* Count and Percentage of Other / Non-Disclosed"
   ],
   "cell_type": "markdown",
   "metadata": {}
  },
  {
   "cell_type": "code",
   "execution_count": 432,
   "metadata": {},
   "outputs": [
    {
     "output_type": "execute_result",
     "data": {
      "text/plain": [
       "                       Total Counts Percentage of Players\n",
       "Male                            484                84.03%\n",
       "Female                           81                14.06%\n",
       "Other / Non-Disclosed            11                 1.91%"
      ],
      "text/html": "<div>\n<style scoped>\n    .dataframe tbody tr th:only-of-type {\n        vertical-align: middle;\n    }\n\n    .dataframe tbody tr th {\n        vertical-align: top;\n    }\n\n    .dataframe thead th {\n        text-align: right;\n    }\n</style>\n<table border=\"1\" class=\"dataframe\">\n  <thead>\n    <tr style=\"text-align: right;\">\n      <th></th>\n      <th>Total Counts</th>\n      <th>Percentage of Players</th>\n    </tr>\n  </thead>\n  <tbody>\n    <tr>\n      <th>Male</th>\n      <td>484</td>\n      <td>84.03%</td>\n    </tr>\n    <tr>\n      <th>Female</th>\n      <td>81</td>\n      <td>14.06%</td>\n    </tr>\n    <tr>\n      <th>Other / Non-Disclosed</th>\n      <td>11</td>\n      <td>1.91%</td>\n    </tr>\n  </tbody>\n</table>\n</div>"
     },
     "metadata": {},
     "execution_count": 432
    }
   ],
   "source": [
    "Gender_Groupby = purchase_df.groupby(\"Gender\")\n",
    "Gender_count = Gender_Groupby[\"SN\"].nunique()\n",
    "Demographics_data = pd.DataFrame({\"Total Counts\": Gender_count,\"Percentage of Players\": (Gender_count/int(total_player.values))}, index=purchase_df[\"Gender\"].unique()).sort_values(by=['Percentage of Players'], ascending=False)\n",
    "Demographics_data[\"Percentage of Players\"] = Demographics_data[\"Percentage of Players\"].map(\"{:.2%}\".format)\n",
    "Demographics_data"
   ]
  },
  {
   "source": [
    "## Output of Purchasing Analysis (Gender)\n",
    "\n",
    "* Gives an analysis of the following pieces of data aggregated by Gender:\n",
    "    * Purchase Count\n",
    "    * Average Purchase Price\n",
    "    * Total Purchase Value\n",
    "    * (Avg) Total Purchase /Person\n",
    "\n"
   ],
   "cell_type": "markdown",
   "metadata": {}
  },
  {
   "cell_type": "code",
   "execution_count": 433,
   "metadata": {},
   "outputs": [
    {
     "output_type": "execute_result",
     "data": {
      "text/plain": [
       "                         Purchase Count Average Purchase Price  \\\n",
       "[Male]                              652                  $3.02   \n",
       "[Female]                            113                  $3.20   \n",
       "[Other / Non-Disclosed]              15                  $3.35   \n",
       "\n",
       "                        Total Purchase Value (Avg) Total Purchase /Person  \n",
       "[Male]                             $1,967.64                        $4.07  \n",
       "[Female]                             $361.94                        $4.47  \n",
       "[Other / Non-Disclosed]               $50.19                        $4.56  "
      ],
      "text/html": "<div>\n<style scoped>\n    .dataframe tbody tr th:only-of-type {\n        vertical-align: middle;\n    }\n\n    .dataframe tbody tr th {\n        vertical-align: top;\n    }\n\n    .dataframe thead th {\n        text-align: right;\n    }\n</style>\n<table border=\"1\" class=\"dataframe\">\n  <thead>\n    <tr style=\"text-align: right;\">\n      <th></th>\n      <th>Purchase Count</th>\n      <th>Average Purchase Price</th>\n      <th>Total Purchase Value</th>\n      <th>(Avg) Total Purchase /Person</th>\n    </tr>\n  </thead>\n  <tbody>\n    <tr>\n      <th>[Male]</th>\n      <td>652</td>\n      <td>$3.02</td>\n      <td>$1,967.64</td>\n      <td>$4.07</td>\n    </tr>\n    <tr>\n      <th>[Female]</th>\n      <td>113</td>\n      <td>$3.20</td>\n      <td>$361.94</td>\n      <td>$4.47</td>\n    </tr>\n    <tr>\n      <th>[Other / Non-Disclosed]</th>\n      <td>15</td>\n      <td>$3.35</td>\n      <td>$50.19</td>\n      <td>$4.56</td>\n    </tr>\n  </tbody>\n</table>\n</div>"
     },
     "metadata": {},
     "execution_count": 433
    }
   ],
   "source": [
    "alist = list(zip(Gender_Groupby[\"Purchase ID\"].count(),Gender_Groupby[\"Price\"].mean(),Gender_Groupby[\"Price\"].sum(),round(Gender_Groupby[\"Price\"].sum()/Gender_count,2)))\n",
    "purchase_analysis_byGender = pd.DataFrame(alist,columns=['Purchase Count','Average Purchase Price','Total Purchase Value','(Avg) Total Purchase /Person'],index=Gender_Groupby['Gender'].unique().values).sort_values(by=['Purchase Count'], ascending=False)\n",
    "for x in range(1,4):\n",
    "    df_col = purchase_analysis_byGender.columns[x]\n",
    "    purchase_analysis_byGender[df_col] = purchase_analysis_byGender[df_col].map(\"${:,.2f}\".format)\n",
    "purchase_analysis_byGender"
   ]
  },
  {
   "source": [
    "## Bin Age Demographics\n",
    "\n",
    "* Established bins for ages\n",
    "\n",
    "\n",
    "* Categorized the existing players into the bin.\n",
    "\n",
    "\n",
    "* Calculated the numbers and percentages by age group"
   ],
   "cell_type": "markdown",
   "metadata": {}
  },
  {
   "cell_type": "code",
   "execution_count": 434,
   "metadata": {},
   "outputs": [
    {
     "output_type": "execute_result",
     "data": {
      "text/plain": [
       "       Total Count Percentage of Players\n",
       "<10             17                 2.95%\n",
       "10-14           22                 3.82%\n",
       "15-19          107                18.58%\n",
       "20-24          258                44.79%\n",
       "25-29           77                13.37%\n",
       "30-34           52                 9.03%\n",
       "35-39           31                 5.38%\n",
       "40+             12                 2.08%"
      ],
      "text/html": "<div>\n<style scoped>\n    .dataframe tbody tr th:only-of-type {\n        vertical-align: middle;\n    }\n\n    .dataframe tbody tr th {\n        vertical-align: top;\n    }\n\n    .dataframe thead th {\n        text-align: right;\n    }\n</style>\n<table border=\"1\" class=\"dataframe\">\n  <thead>\n    <tr style=\"text-align: right;\">\n      <th></th>\n      <th>Total Count</th>\n      <th>Percentage of Players</th>\n    </tr>\n  </thead>\n  <tbody>\n    <tr>\n      <th>&lt;10</th>\n      <td>17</td>\n      <td>2.95%</td>\n    </tr>\n    <tr>\n      <th>10-14</th>\n      <td>22</td>\n      <td>3.82%</td>\n    </tr>\n    <tr>\n      <th>15-19</th>\n      <td>107</td>\n      <td>18.58%</td>\n    </tr>\n    <tr>\n      <th>20-24</th>\n      <td>258</td>\n      <td>44.79%</td>\n    </tr>\n    <tr>\n      <th>25-29</th>\n      <td>77</td>\n      <td>13.37%</td>\n    </tr>\n    <tr>\n      <th>30-34</th>\n      <td>52</td>\n      <td>9.03%</td>\n    </tr>\n    <tr>\n      <th>35-39</th>\n      <td>31</td>\n      <td>5.38%</td>\n    </tr>\n    <tr>\n      <th>40+</th>\n      <td>12</td>\n      <td>2.08%</td>\n    </tr>\n  </tbody>\n</table>\n</div>"
     },
     "metadata": {},
     "execution_count": 434
    }
   ],
   "source": [
    "bins = [0, 9.9, 14.9, 19.9, 24.9, 29.9, 34.9, 39.9, 100]\n",
    "labels = ['<10', '10-14', '15-19', '20-24', '25-29', '30-34', '35-39', '40+']\n",
    "purchase_df[\"Age Bin\"] = pd.cut(purchase_df['Age'],bins, labels=labels)\n",
    "age_demo_groupby = purchase_df.groupby(\"Age Bin\")\n",
    "age_count = age_demo_groupby[\"SN\"].nunique()\n",
    "agelist = list(zip(age_count,(age_count/int(total_player.values))))\n",
    "age_demographics_df = pd.DataFrame(agelist,columns=['Total Count','Percentage of Players'],index=purchase_df[\"Age Bin\"].unique().categories)\n",
    "age_demographics_df[\"Percentage of Players\"] = age_demographics_df[\"Percentage of Players\"].map(\"{:.2%}\".format)\n",
    "age_demographics_df"
   ]
  },
  {
   "source": [
    "## Bin Purchasing Analysis (Age)\n",
    "\n",
    "* Bin the purchase_data data frame by age\n",
    "\n",
    "\n",
    "* Ran calculations for:\n",
    "    * purchase count\n",
    "    * avg. purchase price\n",
    "    * avg. purchase total per person"
   ],
   "cell_type": "markdown",
   "metadata": {}
  },
  {
   "cell_type": "code",
   "execution_count": 435,
   "metadata": {},
   "outputs": [
    {
     "output_type": "execute_result",
     "data": {
      "text/plain": [
       "       Purchase Count Average Purchase Price Total Purchase Value  \\\n",
       "<10                23                  $3.35               $77.13   \n",
       "10-14              28                  $2.96               $82.78   \n",
       "15-19             136                  $3.04              $412.89   \n",
       "20-24             365                  $3.05            $1,114.06   \n",
       "25-29             101                  $2.90              $293.00   \n",
       "30-34              73                  $2.93              $214.00   \n",
       "35-39              41                  $3.60              $147.67   \n",
       "40+                13                  $2.94               $38.24   \n",
       "\n",
       "      Total Purchase /Person (Avg)   \n",
       "<10                           $4.54  \n",
       "10-14                         $3.76  \n",
       "15-19                         $3.86  \n",
       "20-24                         $4.32  \n",
       "25-29                         $3.81  \n",
       "30-34                         $4.12  \n",
       "35-39                         $4.76  \n",
       "40+                           $3.19  "
      ],
      "text/html": "<div>\n<style scoped>\n    .dataframe tbody tr th:only-of-type {\n        vertical-align: middle;\n    }\n\n    .dataframe tbody tr th {\n        vertical-align: top;\n    }\n\n    .dataframe thead th {\n        text-align: right;\n    }\n</style>\n<table border=\"1\" class=\"dataframe\">\n  <thead>\n    <tr style=\"text-align: right;\">\n      <th></th>\n      <th>Purchase Count</th>\n      <th>Average Purchase Price</th>\n      <th>Total Purchase Value</th>\n      <th>Total Purchase /Person (Avg)</th>\n    </tr>\n  </thead>\n  <tbody>\n    <tr>\n      <th>&lt;10</th>\n      <td>23</td>\n      <td>$3.35</td>\n      <td>$77.13</td>\n      <td>$4.54</td>\n    </tr>\n    <tr>\n      <th>10-14</th>\n      <td>28</td>\n      <td>$2.96</td>\n      <td>$82.78</td>\n      <td>$3.76</td>\n    </tr>\n    <tr>\n      <th>15-19</th>\n      <td>136</td>\n      <td>$3.04</td>\n      <td>$412.89</td>\n      <td>$3.86</td>\n    </tr>\n    <tr>\n      <th>20-24</th>\n      <td>365</td>\n      <td>$3.05</td>\n      <td>$1,114.06</td>\n      <td>$4.32</td>\n    </tr>\n    <tr>\n      <th>25-29</th>\n      <td>101</td>\n      <td>$2.90</td>\n      <td>$293.00</td>\n      <td>$3.81</td>\n    </tr>\n    <tr>\n      <th>30-34</th>\n      <td>73</td>\n      <td>$2.93</td>\n      <td>$214.00</td>\n      <td>$4.12</td>\n    </tr>\n    <tr>\n      <th>35-39</th>\n      <td>41</td>\n      <td>$3.60</td>\n      <td>$147.67</td>\n      <td>$4.76</td>\n    </tr>\n    <tr>\n      <th>40+</th>\n      <td>13</td>\n      <td>$2.94</td>\n      <td>$38.24</td>\n      <td>$3.19</td>\n    </tr>\n  </tbody>\n</table>\n</div>"
     },
     "metadata": {},
     "execution_count": 435
    }
   ],
   "source": [
    "age_purchase_list = list(zip(age_demo_groupby[\"Purchase ID\"].count(),round(age_demo_groupby[\"Price\"].mean(),2),round(age_demo_groupby[\"Price\"].sum(),2),round((age_demo_groupby[\"Price\"].sum()/age_count),2)))\n",
    "age_purchase_df = pd.DataFrame(age_purchase_list,columns=['Purchase Count','Average Purchase Price','Total Purchase Value','Total Purchase /Person (Avg) '], index=purchase_df[\"Age Bin\"].unique().categories)\n",
    "for x in range(1,4):\n",
    "    age_df_col = age_purchase_df.columns[x]\n",
    "    age_purchase_df[age_df_col ] = age_purchase_df[age_df_col].map(\"${:,.2f}\".format)\n",
    "age_purchase_df"
   ]
  },
  {
   "source": [
    "## Top Spenders\n",
    "\n",
    "* Obtained the top (5) Spenders\n",
    "* Sorted results by (Total Purchase Value)\n",
    "* Cleaned up formatting by removing index header to table is even"
   ],
   "cell_type": "markdown",
   "metadata": {}
  },
  {
   "cell_type": "code",
   "execution_count": 436,
   "metadata": {},
   "outputs": [
    {
     "output_type": "execute_result",
     "data": {
      "text/plain": [
       "             Purchase Count  Purchase Price(Avg)  Total Purchase Value\n",
       "Lisosia93                 5                 3.79                 18.96\n",
       "Idastidru52               4                 3.86                 15.45\n",
       "Chamjask73                3                 4.61                 13.83\n",
       "Iral74                    4                 3.40                 13.62\n",
       "Iskadarya95               3                 4.37                 13.10"
      ],
      "text/html": "<div>\n<style scoped>\n    .dataframe tbody tr th:only-of-type {\n        vertical-align: middle;\n    }\n\n    .dataframe tbody tr th {\n        vertical-align: top;\n    }\n\n    .dataframe thead th {\n        text-align: right;\n    }\n</style>\n<table border=\"1\" class=\"dataframe\">\n  <thead>\n    <tr style=\"text-align: right;\">\n      <th></th>\n      <th>Purchase Count</th>\n      <th>Purchase Price(Avg)</th>\n      <th>Total Purchase Value</th>\n    </tr>\n  </thead>\n  <tbody>\n    <tr>\n      <th>Lisosia93</th>\n      <td>5</td>\n      <td>3.79</td>\n      <td>18.96</td>\n    </tr>\n    <tr>\n      <th>Idastidru52</th>\n      <td>4</td>\n      <td>3.86</td>\n      <td>15.45</td>\n    </tr>\n    <tr>\n      <th>Chamjask73</th>\n      <td>3</td>\n      <td>4.61</td>\n      <td>13.83</td>\n    </tr>\n    <tr>\n      <th>Iral74</th>\n      <td>4</td>\n      <td>3.40</td>\n      <td>13.62</td>\n    </tr>\n    <tr>\n      <th>Iskadarya95</th>\n      <td>3</td>\n      <td>4.37</td>\n      <td>13.10</td>\n    </tr>\n  </tbody>\n</table>\n</div>"
     },
     "metadata": {},
     "execution_count": 436
    }
   ],
   "source": [
    "sn_groupby = purchase_df.groupby(\"SN\")\n",
    "ilist = sn_groupby[\"Price\"].sum().sort_values(ascending=False).head().index.values\n",
    "top_spender_df = pd.DataFrame()\n",
    "for i in ilist:\n",
    "    top_spender_df = top_spender_df.append(purchase_df.loc[purchase_df[\"SN\"] == i])\n",
    "sn_groupby = top_spender_df.groupby(\"SN\")\n",
    "toplist = list(zip(sn_groupby[\"Purchase ID\"].nunique(),round(sn_groupby[\"Price\"].mean(),2),round(sn_groupby[\"Price\"].sum(),2)))\n",
    "top_spender_df = pd.DataFrame(toplist,columns=['Purchase Count','Purchase Price(Avg)','Total Purchase Value']).sort_values(by=['Total Purchase Value'],ascending=False)\n",
    "top_spender_df.set_index(ilist)"
   ]
  },
  {
   "source": [
    "## Most Popular Items\n",
    "\n",
    "* Grouped by (Item ID and Item Name)\n",
    "\n",
    "* Created secondary df (index_df) as an index reference to use for formatting\n",
    "\n",
    "* Created new df based on calculations\n",
    "\n",
    "* Dynamically set currency formatting with for loop\n",
    "\n",
    "* Combined (Item ID and Item Name) into one index column and removed header for formatting\n"
   ],
   "cell_type": "markdown",
   "metadata": {}
  },
  {
   "cell_type": "code",
   "execution_count": 437,
   "metadata": {},
   "outputs": [
    {
     "output_type": "execute_result",
     "data": {
      "text/plain": [
       "                                                    Purchase Count Item Price  \\\n",
       "(92, Final Critic)                                              13      $4.61   \n",
       "(178, Oathbreaker, Last Hope of the Breaking St...              12      $4.23   \n",
       "(145, Fiery Glass Crusader)                                      9      $4.58   \n",
       "(132, Persuasion)                                                9      $3.22   \n",
       "(108, Extraction, Quickblade Of Trembling Hands)                 9      $3.53   \n",
       "\n",
       "                                                   Purchase Value  \n",
       "(92, Final Critic)                                         $59.99  \n",
       "(178, Oathbreaker, Last Hope of the Breaking St...         $50.76  \n",
       "(145, Fiery Glass Crusader)                                $41.22  \n",
       "(132, Persuasion)                                          $28.99  \n",
       "(108, Extraction, Quickblade Of Trembling Hands)           $31.77  "
      ],
      "text/html": "<div>\n<style scoped>\n    .dataframe tbody tr th:only-of-type {\n        vertical-align: middle;\n    }\n\n    .dataframe tbody tr th {\n        vertical-align: top;\n    }\n\n    .dataframe thead th {\n        text-align: right;\n    }\n</style>\n<table border=\"1\" class=\"dataframe\">\n  <thead>\n    <tr style=\"text-align: right;\">\n      <th></th>\n      <th>Purchase Count</th>\n      <th>Item Price</th>\n      <th>Purchase Value</th>\n    </tr>\n  </thead>\n  <tbody>\n    <tr>\n      <th>(92, Final Critic)</th>\n      <td>13</td>\n      <td>$4.61</td>\n      <td>$59.99</td>\n    </tr>\n    <tr>\n      <th>(178, Oathbreaker, Last Hope of the Breaking Storm)</th>\n      <td>12</td>\n      <td>$4.23</td>\n      <td>$50.76</td>\n    </tr>\n    <tr>\n      <th>(145, Fiery Glass Crusader)</th>\n      <td>9</td>\n      <td>$4.58</td>\n      <td>$41.22</td>\n    </tr>\n    <tr>\n      <th>(132, Persuasion)</th>\n      <td>9</td>\n      <td>$3.22</td>\n      <td>$28.99</td>\n    </tr>\n    <tr>\n      <th>(108, Extraction, Quickblade Of Trembling Hands)</th>\n      <td>9</td>\n      <td>$3.53</td>\n      <td>$31.77</td>\n    </tr>\n  </tbody>\n</table>\n</div>"
     },
     "metadata": {},
     "execution_count": 437
    }
   ],
   "source": [
    "item_grouping = purchase_df.groupby([\"Item ID\",\"Item Name\"])\n",
    "index_df = pd.DataFrame(item_grouping['Purchase ID'].nunique()).sort_values(by=['Purchase ID'],ascending=False).head()\n",
    "product_list = list(zip(item_grouping[\"Purchase ID\"].nunique(),item_grouping[\"Price\"].mean(),item_grouping[\"Price\"].sum()))\n",
    "popular_items_df = pd.DataFrame(product_list,columns=['Purchase Count','Item Price','Purchase Value']).sort_values(by=['Purchase Count'],ascending=False).head()\n",
    "for x in range(1,3):\n",
    "    pop_df_col = popular_items_df.columns[x]\n",
    "    popular_items_df[pop_df_col ] = popular_items_df[pop_df_col].map(\"${:,.2f}\".format)\n",
    "popular_items_df.set_index(index_df.index.values)"
   ]
  },
  {
   "source": [
    "## Most Profitable Items\n",
    "\n",
    "* Reused base list from above in order to create new df based on a different sort\n",
    "\n",
    "* Sorted based on (Total Purchase Value)\n",
    "\n",
    "* Used same formatting as above"
   ],
   "cell_type": "markdown",
   "metadata": {}
  },
  {
   "cell_type": "code",
   "execution_count": 438,
   "metadata": {},
   "outputs": [
    {
     "output_type": "execute_result",
     "data": {
      "text/plain": [
       "                                                    Purchase Count Item Price  \\\n",
       "(92, Final Critic)                                              13      $4.61   \n",
       "(178, Oathbreaker, Last Hope of the Breaking St...              12      $4.23   \n",
       "(82, Nirvana)                                                    9      $4.90   \n",
       "(145, Fiery Glass Crusader)                                      9      $4.58   \n",
       "(103, Singed Scalpel)                                            8      $4.35   \n",
       "\n",
       "                                                   Purchase Value  \n",
       "(92, Final Critic)                                         $59.99  \n",
       "(178, Oathbreaker, Last Hope of the Breaking St...         $50.76  \n",
       "(82, Nirvana)                                              $44.10  \n",
       "(145, Fiery Glass Crusader)                                $41.22  \n",
       "(103, Singed Scalpel)                                      $34.80  "
      ],
      "text/html": "<div>\n<style scoped>\n    .dataframe tbody tr th:only-of-type {\n        vertical-align: middle;\n    }\n\n    .dataframe tbody tr th {\n        vertical-align: top;\n    }\n\n    .dataframe thead th {\n        text-align: right;\n    }\n</style>\n<table border=\"1\" class=\"dataframe\">\n  <thead>\n    <tr style=\"text-align: right;\">\n      <th></th>\n      <th>Purchase Count</th>\n      <th>Item Price</th>\n      <th>Purchase Value</th>\n    </tr>\n  </thead>\n  <tbody>\n    <tr>\n      <th>(92, Final Critic)</th>\n      <td>13</td>\n      <td>$4.61</td>\n      <td>$59.99</td>\n    </tr>\n    <tr>\n      <th>(178, Oathbreaker, Last Hope of the Breaking Storm)</th>\n      <td>12</td>\n      <td>$4.23</td>\n      <td>$50.76</td>\n    </tr>\n    <tr>\n      <th>(82, Nirvana)</th>\n      <td>9</td>\n      <td>$4.90</td>\n      <td>$44.10</td>\n    </tr>\n    <tr>\n      <th>(145, Fiery Glass Crusader)</th>\n      <td>9</td>\n      <td>$4.58</td>\n      <td>$41.22</td>\n    </tr>\n    <tr>\n      <th>(103, Singed Scalpel)</th>\n      <td>8</td>\n      <td>$4.35</td>\n      <td>$34.80</td>\n    </tr>\n  </tbody>\n</table>\n</div>"
     },
     "metadata": {},
     "execution_count": 438
    }
   ],
   "source": [
    "profit_index_df = pd.DataFrame(item_grouping['Price'].sum()).sort_values(by=['Price'],ascending=False).head()\n",
    "profit_items_df = pd.DataFrame(product_list,columns=['Purchase Count','Item Price','Purchase Value']).sort_values(by=['Purchase Value'],ascending=False).head()\n",
    "for x in range(1,3):\n",
    "    profit_df_col = profit_items_df.columns[x]\n",
    "    profit_items_df[profit_df_col] = profit_items_df[profit_df_col].map(\"${:,.2f}\".format)\n",
    "profit_items_df.set_index(profit_index_df.index.values)"
   ]
  },
  {
   "cell_type": "code",
   "execution_count": 439,
   "metadata": {},
   "outputs": [],
   "source": [
    "%reset"
   ]
  }
 ],
 "metadata": {
  "kernelspec": {
   "display_name": "Python 3",
   "language": "python",
   "name": "python3"
  },
  "language_info": {
   "codemirror_mode": {
    "name": "ipython",
    "version": 3
   },
   "file_extension": ".py",
   "mimetype": "text/x-python",
   "name": "python",
   "nbconvert_exporter": "python",
   "pygments_lexer": "ipython3",
   "version": "3.8.3-final"
  }
 },
 "nbformat": 4,
 "nbformat_minor": 4
}